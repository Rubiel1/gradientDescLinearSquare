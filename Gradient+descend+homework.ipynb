{
 "cells": [
  {
   "cell_type": "code",
   "execution_count": 1,
   "metadata": {
    "collapsed": true
   },
   "outputs": [],
   "source": [
    "#wrote by Eric Dolores\n",
    "import math\n",
    "import random\n",
    "import numpy as np\n",
    "import matplotlib.pyplot as plt\n",
    "from numpy import linalg as LA\n",
    "\n",
    "\n",
    "#the following will simplify notation\n",
    "testEval ={}\n",
    "def matrixDef(B, y_train):\n",
    "    A = np.matrix(B)\n",
    "    tA = A.T\n",
    "###At(A*x-b)\n",
    "    bt=np.matrix(y_train)\n",
    "    return A, tA, bt\n",
    "def MSE(dif):\n",
    "    Dif = dif*dif\n",
    "    return sum(x for x in Dif)/len(Dif)\n",
    "\n"
   ]
  },
  {
   "cell_type": "markdown",
   "metadata": {},
   "source": [
    "Homework 1:\n",
    "Let’s practice gradient descent while studying the relationship between representational capacity and generalization error.\n",
    "\n",
    "    Use algorithm 4.1 on page 96 of the Deep Learning book to develop your own code that solves the linear least squares problem.\n"
   ]
  },
  {
   "cell_type": "markdown",
   "metadata": {},
   "source": [
    "Algorithm 4.1: An algorithm to minimize $f(x)=\\frac{1}{2}||Ax-b||^2_2$ with respect to $x$ using gradient descend, starting from an arbitrary value of $x$.\n",
    "    Set the step size $\\epsilon$ and tolerance $\\delta$ to small, positive numbers.\n",
    "    \n",
    "While $||A^T AX-A^T b||_2>\\delta $ do $$x\\leftarrow x-\\epsilon(A^T AX-A^T b)$$    \n",
    "end While"
   ]
  },
  {
   "cell_type": "code",
   "execution_count": 2,
   "metadata": {},
   "outputs": [],
   "source": [
    "def minim(x, error, delta, A, b, tA):\n",
    "    term1 = A*x-b\n",
    "    term2 = tA*(term1)\n",
    "    count = 1#to avoid cycles\n",
    "    val = LA.norm( term2 )\n",
    "    while val>delta:\n",
    "        x = x-(error)*term2\n",
    "        term1 = A*x-b\n",
    "        term2 = tA*(term1)\n",
    "        val = LA.norm(term2)\n",
    "        count = count+1\n",
    "        term2 = term2/(val+count/20)#This normalization prevents cycles\n",
    "    return x    \n",
    "    "
   ]
  },
  {
   "cell_type": "markdown",
   "metadata": {},
   "source": [
    "Apply your code from above to the training data to learn a 0-degree polynomial model of the data-generating process."
   ]
  },
  {
   "cell_type": "code",
   "execution_count": 3,
   "metadata": {},
   "outputs": [],
   "source": [
    "def dataGen():\n",
    "\n",
    "    num_train = 25\n",
    "    num_test = 15\n",
    "    x_0 = -10\n",
    "    x_f = 10\n",
    "    noise_amplitude = 200\n",
    "\n",
    "    np.random.seed(1234)\n",
    "\n",
    "    x_train = np.random.uniform(x_0, x_f, num_train)\n",
    "    noise_train = np.random.uniform(-noise_amplitude, noise_amplitude, num_train)\n",
    "    y_train = 2*x_train**3 + 5*x_train**2 + 9*x_train + 15 + noise_train\n",
    "\n",
    "    x_test = np.random.uniform(x_0, x_f, num_test)\n",
    "    noise_test = np.random.uniform(-noise_amplitude, noise_amplitude, num_test)\n",
    "    y_test = 2*x_test**3 + 5*x_test**2 + 9*x_test + 15 + noise_test\n",
    "\n",
    "#quick data normalization   \n",
    "    x_train /= 10\n",
    "    x_test /= 10\n",
    "    y_train /= 1000\n",
    "    y_test /= 1000\n",
    "\n",
    "   # plt.scatter(x_train, y_train, color='b')\n",
    "    #plt.scatter(x_test, y_test, color='r')\n",
    "    \n",
    "    #plt.show()\n",
    "    return x_train, y_train, x_test, y_test"
   ]
  },
  {
   "cell_type": "markdown",
   "metadata": {},
   "source": [
    "To approximate with a polynomial of degree 0, we ignore the x-values and consider only the best approximation to the y-values."
   ]
  },
  {
   "cell_type": "code",
   "execution_count": 4,
   "metadata": {
    "scrolled": true
   },
   "outputs": [
    {
     "data": {
      "image/png": "[encoded data removed]",
      "text/plain": [
       "<matplotlib.figure.Figure at 0x2201af79198>"
      ]
     },
     "metadata": {},
     "output_type": "display_data"
    }
   ],
   "source": [
    "x_train, y_train, x_test, y_test = dataGen()\n",
    "x = np.matrix('1')\n",
    "error = 1\n",
    "delta = .5\n",
    "B = [[1] for num in x_train]\n",
    "A = np.matrix(B)\n",
    "tA = A.T\n",
    "###At(A*x-b)\n",
    "bt=np.matrix(y_train)\n",
    "\n",
    "sol = minim(x, error, delta, A, bt.T, tA)\n",
    "\n",
    "degree0 = [sol for x in x_train]\n",
    "plt.scatter(x_train, y_train, color='b')\n",
    "plt.scatter(x_test, y_test, color='r')\n",
    "plt.scatter(x_train, degree0, color='y')    \n",
    "plt.show()\n"
   ]
  },
  {
   "cell_type": "markdown",
   "metadata": {},
   "source": [
    "Test the performance of your linear least squares solution. I.e., calculate the mean squared error of your trained model’s predictions on the test data."
   ]
  },
  {
   "cell_type": "code",
   "execution_count": 5,
   "metadata": {},
   "outputs": [
    {
     "name": "stdout",
     "output_type": "stream",
     "text": [
      "Test performance for degree 0:train [[ 0.56109386]], test [[ 1.05034766]]\n"
     ]
    }
   ],
   "source": [
    "dif = np.array([(sol - y) for y in y_train])\n",
    "Dif = dif*dif\n",
    "ev1 = sum(x for x in Dif)/len(Dif)\n",
    "\n",
    "\n",
    "dif = np.array([(sol - y) for y in y_test])\n",
    "Dif = dif*dif\n",
    "ev2 = sum(x for x in Dif)/len(Dif)\n",
    "\n",
    "testEval[0]=[ev1, ev2]\n",
    "print('Test performance for degree 0:train {}, test {}'.format( ev1,ev2))\n"
   ]
  },
  {
   "cell_type": "markdown",
   "metadata": {},
   "source": [
    "Repeat steps 1-3 five times: each time increasing the degree of the polynomial model that your algorithm learns in step 2. Record your training error, test error, and the degree of the polynomial used. Plot these results to obtain a figure similar to Figure 5.3 on page 115 of the Deep Learning."
   ]
  },
  {
   "cell_type": "markdown",
   "metadata": {},
   "source": [
    "Here we see the linear case:"
   ]
  },
  {
   "cell_type": "code",
   "execution_count": 6,
   "metadata": {
    "scrolled": false
   },
   "outputs": [
    {
     "name": "stdout",
     "output_type": "stream",
     "text": [
      "f = [[ 1.25443392]]X+[[ 0.1182749]] \n"
     ]
    },
    {
     "data": {
      "image/png": "[encoded data removed]",
      "text/plain": [
       "<matplotlib.figure.Figure at 0x2201b064b00>"
      ]
     },
     "metadata": {},
     "output_type": "display_data"
    },
    {
     "name": "stdout",
     "output_type": "stream",
     "text": [
      "Test performance for degree 1:train [[ 0.20633175]], test [[ 1.05034766]]\n"
     ]
    }
   ],
   "source": [
    "x_train, y_train, x_test, y_test= dataGen()\n",
    "x = np.matrix('1; 1')\n",
    "B = [[num,1] for num in x_train]#self note: this was a mistake, the more natural [1, num] makes easier the indexing in the future\n",
    "\n",
    "A = np.matrix(B)\n",
    "tA = A.T\n",
    "###At(A*x-b)\n",
    "bt = np.matrix(y_train)\n",
    "\n",
    "sol = minim(x, error, delta, A, bt.T, tA)\n",
    "print(\"f = {}X+{} \".format(sol[0],sol[1]))    \n",
    "\n",
    "plt.scatter(x_train, y_train, color='b')\n",
    "plt.scatter(x_test, y_test, color='r')\n",
    "s = [sol[0]*this+sol[1] for this in x_train]\n",
    "plt.scatter(x_train, s, color='y')    \n",
    "plt.show()\n",
    "\n",
    "dif = np.array([sol[0]*x_train[j]+sol[1] - y_train[j] for j in range(len(x_train))])\n",
    "Dif = dif*dif\n",
    "ev1 = sum(x for x in Dif)/len(Dif)\n",
    "\n",
    "dif = np.array([sol[0]*x_test[j]+sol[1] - y_test[j] for j in range(len(x_test))])\n",
    "Dif = dif*dif\n",
    "ev1 = sum(x for x in Dif)/len(Dif)\n",
    "\n",
    "testEval[1]=[ev1, ev2]\n",
    "print('Test performance for degree 1:train {}, test {}'.format( ev1,ev2))\n",
    "\n"
   ]
  },
  {
   "cell_type": "code",
   "execution_count": 7,
   "metadata": {
    "scrolled": true
   },
   "outputs": [
    {
     "name": "stdout",
     "output_type": "stream",
     "text": [
      "f(X) =[[ 0.31662846]]X**2 + [[ 1.23390083]]X + [[ 0.03004351]]\n"
     ]
    },
    {
     "data": {
      "image/png": "[encoded data removed]",
      "text/plain": [
       "<matplotlib.figure.Figure at 0x2201b443b38>"
      ]
     },
     "metadata": {},
     "output_type": "display_data"
    },
    {
     "name": "stdout",
     "output_type": "stream",
     "text": [
      "Test performance for degree 2: train [[ 0.11000851]], test [[ 0.17468236]]\n"
     ]
    }
   ],
   "source": [
    "##Cuadratic:\n",
    "\n",
    "x = np.matrix('1; 1; 1')\n",
    "B = [[num*num,num,1] for num in x_train]\n",
    "A, tA, bt = matrixDef(B,y_train) #See linear case\n",
    "\n",
    "sol = minim(x, error, delta, A, bt.T, tA)\n",
    "print(\"f(X) ={}X**2 + {}X + {}\".format(sol[0],sol[1], sol[2]))    \n",
    "\n",
    "plt.scatter(x_train, y_train, color='b')\n",
    "plt.scatter(x_test, y_test, color='r')\n",
    "s = [sol[0]*this*this+sol[1]*this+sol[2] for this in x_train]\n",
    "plt.scatter(x_train, s, color='y')    \n",
    "plt.show()\n",
    "\n",
    "dif = np.array([sol[0]*x_train[j]*x_train[j]+sol[1]*x_train[j]+sol[2] - y_train[j] for j in range(len(x_train))])\n",
    "ev1=MSE(dif)\n",
    "\n",
    "dif = np.array([sol[0]*x_test[j]*x_test[j]+sol[1]*x_test[j]+sol[2] - y_test[j] for j in range(len(x_test))])\n",
    "ev2=MSE(dif)\n",
    "print('Test performance for degree 2: train {}, test {}'.format(ev1, ev2))    \n",
    "\n",
    "\n",
    "testEval[2]=[ev1, ev2]"
   ]
  },
  {
   "cell_type": "code",
   "execution_count": 8,
   "metadata": {
    "scrolled": true
   },
   "outputs": [
    {
     "name": "stdout",
     "output_type": "stream",
     "text": [
      "f(X) =[[ 2.15129603]]X**3 +[[ 0.47595584]]X**2 + [[ 0.01286164]]X + [[ 0.03937693]]\n"
     ]
    },
    {
     "data": {
      "image/png": "[encoded data removed]",
      "text/plain": [
       "<matplotlib.figure.Figure at 0x2201b4979e8>"
      ]
     },
     "metadata": {},
     "output_type": "display_data"
    },
    {
     "name": "stdout",
     "output_type": "stream",
     "text": [
      "Test performance for degree 3: train [[ 0.010156]], test [[ 0.01628928]]\n"
     ]
    }
   ],
   "source": [
    "##Cubic:\n",
    "\n",
    "x = np.matrix('1; 1; 1;1')\n",
    "error=1\n",
    "delta=.5\n",
    "B = [[num*num*num,num*num,num,1] for num in x_train]\n",
    "A, tA, bt = matrixDef(B,y_train) #See linear case\n",
    "\n",
    "sol = minim(x, error, delta, A, bt.T, tA)\n",
    "print(\"f(X) ={}X**3 +{}X**2 + {}X + {}\".format(sol[0],sol[1],sol[2], sol[3]))    \n",
    "\n",
    "plt.scatter(x_train, y_train, color='b')\n",
    "plt.scatter(x_test, y_test, color='r')\n",
    "s = [sol[0]*this*this*this+sol[1]*this*this+sol[2]*this+sol[3] for this in x_train]\n",
    "plt.scatter(x_train, s, color='y')    \n",
    "plt.show()\n",
    "\n",
    "dif = np.array([sol[0]*x_train[j]*x_train[j]*x_train[j]+sol[1]*x_train[j]*x_train[j]+sol[2]*x_train[j]+sol[3] - y_train[j] for j in range(len(x_test))])\n",
    "ev1=MSE(dif)\n",
    "\n",
    "dif = np.array([sol[0]*x_test[j]*x_test[j]*x_test[j]+sol[1]*x_test[j]*x_test[j]+sol[2]*x_test[j]+sol[3] - y_test[j] for j in range(len(x_test))])\n",
    "ev2=MSE(dif)\n",
    "print('Test performance for degree 3: train {}, test {}'.format(ev1, ev2))    \n",
    "\n",
    "\n",
    "\n",
    "testEval[3]=[ev1, ev2]"
   ]
  },
  {
   "cell_type": "code",
   "execution_count": 9,
   "metadata": {},
   "outputs": [
    {
     "name": "stdout",
     "output_type": "stream",
     "text": [
      "f(X) =[[-0.54430712]]X**4 +[[ 2.13444372]]X**3 +[[ 0.91225558]]X**2 + [[-0.00796041]]X + [[-0.03155241]]\n"
     ]
    },
    {
     "data": {
      "image/png": "[encoded data removed]",
      "text/plain": [
       "<matplotlib.figure.Figure at 0x2201b53f208>"
      ]
     },
     "metadata": {},
     "output_type": "display_data"
    },
    {
     "name": "stdout",
     "output_type": "stream",
     "text": [
      "Test performance for degree 4: train [[ 0.00808723]], test [[ 0.01662144]]\n"
     ]
    }
   ],
   "source": [
    "#4th degree:\n",
    "\n",
    "x = np.matrix('1; 1; 1;1;1')\n",
    "error=1\n",
    "delta=.5\n",
    "B = [[num**4, num**3, num*num, num, 1] for num in x_train]\n",
    "A, tA, bt = matrixDef(B,y_train) #See linear case\n",
    "\n",
    "sol = minim(x, error, delta, A, bt.T, tA)\n",
    "print(\"f(X) ={}X**4 +{}X**3 +{}X**2 + {}X + {}\".format(sol[0],sol[1],sol[2], sol[3], sol[4]))    \n",
    "\n",
    "plt.scatter(x_train, y_train, color='b')\n",
    "plt.scatter(x_test, y_test, color='r')\n",
    "s = [sol[0]*this**4+sol[1]*this**3+sol[2]*this**2+sol[3]*this**1+sol[4] for this in x_train]\n",
    "plt.scatter(x_train, s, color='y')    \n",
    "plt.show()\n",
    "\n",
    "dif = np.array([sol[0]*x_train[j]**4+sol[1]*x_train[j]**3+sol[2]*x_train[j]**2+sol[3]*x_train[j]**1+sol[4] - y_train[j] for j in range(len(x_train))])\n",
    "ev1=MSE(dif)\n",
    "\n",
    "dif = np.array([sol[0]*x_test[j]**4+sol[1]*x_test[j]**3+sol[2]*x_test[j]**2+sol[3]*x_test[j]**1+sol[4] - y_test[j] for j in range(len(x_test))])\n",
    "ev2=MSE(dif)\n",
    "print('Test performance for degree 4: train {}, test {}'.format(ev1, ev2))    \n",
    "\n",
    "\n",
    "\n",
    "testEval[4]=[ev1, ev2]"
   ]
  },
  {
   "cell_type": "code",
   "execution_count": 10,
   "metadata": {
    "scrolled": true
   },
   "outputs": [
    {
     "name": "stdout",
     "output_type": "stream",
     "text": [
      "f(X) =[[ 0.7820704]]X**5 +[[-0.51182207]]X**4 +[[ 1.28199009]]X**3 +[[ 0.9271816]]X**2 + [[ 0.16876415]]X + [[ 0.00280125]]\n"
     ]
    },
    {
     "data": {
      "image/png": "[encoded data removed]",
      "text/plain": [
       "<matplotlib.figure.Figure at 0x2201b4c5b00>"
      ]
     },
     "metadata": {},
     "output_type": "display_data"
    },
    {
     "name": "stdout",
     "output_type": "stream",
     "text": [
      "Test performance for degree 5: train [[ 0.0098051]], test [[ 0.02243206]]\n"
     ]
    }
   ],
   "source": [
    "#5th degree:\n",
    "\n",
    "x = np.matrix('1; 1; 1; 1; 1; 1')\n",
    "error=1\n",
    "delta=.5\n",
    "B = [[num**5, num**4, num**3, num*num, num, 1] for num in x_train]\n",
    "A, tA, bt = matrixDef(B,y_train) #See linear case\n",
    "\n",
    "sol = minim(x, error, delta, A, bt.T, tA)\n",
    "print(\"f(X) ={}X**5 +{}X**4 +{}X**3 +{}X**2 + {}X + {}\".format(sol[0],sol[1],sol[2], sol[3], sol[4], sol[5]))    \n",
    "\n",
    "plt.scatter(x_train, y_train, color='b')\n",
    "plt.scatter(x_test, y_test, color='r')\n",
    "s = [sol[0]*this**5+sol[1]*this**4+sol[2]*this**3+sol[3]*this**2+sol[4]*this**1+sol[5] for this in x_train]\n",
    "plt.scatter(x_train, s, color='y')    \n",
    "plt.show()\n",
    "\n",
    "dif = np.array([sol[0]*x_train[j]**5+sol[1]*x_train[j]**4+sol[2]*x_train[j]**3+sol[3]*x_train[j]**2+sol[4]*x_train[j]**1+sol[5] - y_train[j] for j in range(len(x_train))])\n",
    "ev1=MSE(dif)\n",
    "\n",
    "dif = np.array([sol[0]*x_test[j]**5+sol[1]*x_test[j]**4+sol[2]*x_test[j]**3+sol[3]*x_test[j]**2+sol[4]*x_test[j]**1+sol[5] - y_test[j] for j in range(len(x_test))])\n",
    "ev2=MSE(dif)\n",
    "print('Test performance for degree 5: train {}, test {}'.format(ev1, ev2))    \n",
    "\n",
    "\n",
    "\n",
    "testEval[5]=[ev1, ev2]"
   ]
  },
  {
   "cell_type": "code",
   "execution_count": 11,
   "metadata": {},
   "outputs": [
    {
     "name": "stdout",
     "output_type": "stream",
     "text": [
      "f(X) = [[-0.45682323]]X**6 +[[ 0.76609316]]X**5 +[[-0.18881084]]X**4 +[[ 1.27234855]]X**3 +[[ 0.95891533]]X**2 + [[ 0.15673974]]X + [[-0.04124949]]\n"
     ]
    },
    {
     "data": {
      "image/png": "[encoded data removed]",
      "text/plain": [
       "<matplotlib.figure.Figure at 0x2201c5f0860>"
      ]
     },
     "metadata": {},
     "output_type": "display_data"
    },
    {
     "name": "stdout",
     "output_type": "stream",
     "text": [
      "Test performance for degree 6: train [[ 0.00925834]], test [[ 0.02391708]]\n"
     ]
    }
   ],
   "source": [
    "#6th degree:\n",
    "\n",
    "x = np.matrix('1; 1; 1; 1; 1; 1;1')\n",
    "error=1\n",
    "delta=.5\n",
    "B = [[num**6,num**5, num**4, num**3, num*num, num, 1] for num in x_train]\n",
    "A, tA, bt = matrixDef(B,y_train) #See linear case\n",
    "\n",
    "sol = minim(x, error, delta, A, bt.T, tA)\n",
    "print(\"f(X) = {}X**6 +{}X**5 +{}X**4 +{}X**3 +{}X**2 + {}X + {}\".format(sol[0],sol[1],sol[2], sol[3], sol[4], sol[5], sol[6]))    \n",
    "\n",
    "plt.scatter(x_train, y_train, color='b')\n",
    "plt.scatter(x_test, y_test, color='r')\n",
    "s = [sol[0]*this**6+sol[1]*this**5+sol[2]*this**4+sol[3]*this**3+sol[4]*this**2+sol[5]*this+sol[6] for this in x_train]\n",
    "plt.scatter(x_train, s, color='y')    \n",
    "plt.show()\n",
    "\n",
    "dif = np.array([sol[0]*x_train[j]**6+sol[1]*x_train[j]**5+sol[2]*x_train[j]**4+sol[3]*x_train[j]**3+sol[4]*x_train[j]**2+sol[5]*x_train[j]+sol[6] - y_train[j] for j in range(len(x_train))])\n",
    "ev1=MSE(dif)\n",
    "\n",
    "dif = np.array([sol[0]*x_test[j]**6+sol[1]*x_test[j]**5+sol[2]*x_test[j]**4+sol[3]*x_test[j]**3+sol[4]*x_test[j]**2+sol[5]*x_test[j]**1+sol[6] - y_test[j] for j in range(len(x_test))])\n",
    "ev2=MSE(dif)\n",
    "print('Test performance for degree 6: train {}, test {}'.format(ev1, ev2))    \n",
    "\n",
    "\n",
    "\n",
    "testEval[6]=[ev1, ev2]"
   ]
  },
  {
   "cell_type": "code",
   "execution_count": 12,
   "metadata": {
    "scrolled": true
   },
   "outputs": [
    {
     "name": "stdout",
     "output_type": "stream",
     "text": [
      "f(X) = [[ 0.21646817]]X**7 +[[-0.43063155]]X**6 +[[ 0.55578955]]X**5 +[[-0.18745706]]X**4 +[[ 1.26267266]]X**3 +[[ 0.96293678]]X**2 + [[ 0.18738143]]X + [[-0.00955999]]\n"
     ]
    },
    {
     "data": {
      "image/png": "[encoded data removed]",
      "text/plain": [
       "<matplotlib.figure.Figure at 0x2201c5e2518>"
      ]
     },
     "metadata": {},
     "output_type": "display_data"
    },
    {
     "name": "stdout",
     "output_type": "stream",
     "text": [
      "Test performance for degree 7: train [[ 0.00963974]], test [[ 0.02609671]]\n"
     ]
    }
   ],
   "source": [
    "#7th degree:\n",
    "\n",
    "x = np.matrix('1; 1; 1; 1; 1; 1; 1; 1')\n",
    "error=1\n",
    "delta=.5\n",
    "B = [[num**7,num**6,num**5, num**4, num**3, num*num, num, 1] for num in x_train]\n",
    "A, tA, bt = matrixDef(B,y_train) #See linear case\n",
    "\n",
    "sol = minim(x, error, delta, A, bt.T, tA)\n",
    "print(\"f(X) = {}X**7 +{}X**6 +{}X**5 +{}X**4 +{}X**3 +{}X**2 + {}X + {}\".format(sol[0],sol[1],sol[2], sol[3], sol[4], sol[5], sol[6], sol[7]))    \n",
    "\n",
    "plt.scatter(x_train, y_train, color='b')\n",
    "plt.scatter(x_test, y_test, color='r')\n",
    "s = [sol[0]*this**7+sol[1]*this**6+sol[2]*this**5+sol[3]*this**4+sol[4]*this**3+sol[5]*this**2+sol[6]*this**1+sol[7] for this in x_train]\n",
    "plt.scatter(x_train, s, color='y')    \n",
    "plt.show()\n",
    "\n",
    "dif = np.array([sol[0]*x_train[j]**7+sol[1]*x_train[j]**6+sol[2]*x_train[j]**5+sol[3]*x_train[j]**4+sol[4]*x_train[j]**3+sol[5]*x_train[j]**2+sol[6]*x_train[j]**1+sol[7] - y_train[j] for j in range(len(x_train))])\n",
    "ev1=MSE(dif)\n",
    "\n",
    "dif = np.array([sol[0]*x_test[j]**7+sol[1]*x_test[j]**6+sol[2]*x_test[j]**5+sol[3]*x_test[j]**4+sol[4]*x_test[j]**3+sol[5]*x_test[j]**2+sol[6]*x_test[j]**1+sol[7] - y_test[j] for j in range(len(x_test))])\n",
    "ev2=MSE(dif)\n",
    "print('Test performance for degree 7: train {}, test {}'.format(ev1, ev2))    \n",
    "\n",
    "\n",
    "\n",
    "testEval[7]=[ev1, ev2]\n"
   ]
  },
  {
   "cell_type": "code",
   "execution_count": null,
   "metadata": {},
   "outputs": [],
   "source": []
  },
  {
   "cell_type": "code",
   "execution_count": 13,
   "metadata": {},
   "outputs": [
    {
     "data": {
      "image/png": "[encoded data removed]",
      "text/plain": [
       "<matplotlib.figure.Figure at 0x2201b4b5be0>"
      ]
     },
     "metadata": {},
     "output_type": "display_data"
    }
   ],
   "source": [
    "degree = [0, 1, 2, 3, 4, 5, 6, 7]\n",
    "train_val=[testEval[i][0] for i in degree]\n",
    "test_val=[testEval[i][1] for i in degree]\n",
    "\n",
    "plt.scatter(degree,train_val , color='r')\n",
    "plt.scatter(degree, test_val, color='b')\n",
    "plt.title(\"Degree vs performance\")\n",
    "plt.xlabel(\"Degree of polynomial\")\n",
    "plt.text(5, .5, 'Train performance', color='red')\n",
    "plt.text(5, .4, 'Test performance', color='blue')\n",
    "plt.ylabel(\"Performance\")\n",
    "plt.show()"
   ]
  },
  {
   "cell_type": "markdown",
   "metadata": {},
   "source": [
    "Interpret your graphed results. For example, when do underfitting and overfitting occur? Which model has the lowest test error? Does this make sense given what you know about the data-generating process?"
   ]
  },
  {
   "cell_type": "markdown",
   "metadata": {},
   "source": [
    "For lower degrees the model is hard to generalize, that is why the train performance and the test performance vary so much.\n",
    "\n",
    "When the degree of the polynomial is bigger than the real degree, the generalization is less accurate, as the following graphs show us."
   ]
  },
  {
   "cell_type": "code",
   "execution_count": 14,
   "metadata": {},
   "outputs": [
    {
     "data": {
      "image/png": "[encoded data removed]",
      "text/plain": [
       "<matplotlib.figure.Figure at 0x2201af72e48>"
      ]
     },
     "metadata": {},
     "output_type": "display_data"
    }
   ],
   "source": [
    "degreec = degree[3:]\n",
    "x=[[testEval[i][1]-testEval[i][0]] for i in degreec]\n",
    "plt.scatter(degreec,x, color='g')\n",
    "plt.xlabel(\"Degree of polynomial\")\n",
    "\n",
    "plt.title( 'Test performance-train performance', color='blue')\n",
    "plt.show()"
   ]
  },
  {
   "cell_type": "markdown",
   "metadata": {},
   "source": [
    "There is underfitting with degrees lower than 3. It is not clear that with the increase of degree, the train MSE decreases but this may be a precision error (see next graph).\n",
    "\n",
    "Over fitting will be with degrees lower than 3 and for very high degrees.\n"
   ]
  },
  {
   "cell_type": "code",
   "execution_count": 15,
   "metadata": {},
   "outputs": [
    {
     "data": {
      "image/png": "[encoded data removed]",
      "text/plain": [
       "<matplotlib.figure.Figure at 0x2201b5b5400>"
      ]
     },
     "metadata": {},
     "output_type": "display_data"
    }
   ],
   "source": [
    "degreed = degree[3:]\n",
    "x=[[testEval[i][0]] for i in degreed]\n",
    "plt.scatter(degreed,x, color='r')\n",
    "plt.xlabel(\"Degree of polynomial\")\n",
    "\n",
    "plt.title( 'Train performance', color='red')\n",
    "plt.show()"
   ]
  },
  {
   "cell_type": "code",
   "execution_count": null,
   "metadata": {
    "collapsed": true
   },
   "outputs": [],
   "source": []
  }
 ],
 "metadata": {
  "kernelspec": {
   "display_name": "Python [default]",
   "language": "python",
   "name": "python3"
  },
  "language_info": {
   "codemirror_mode": {
    "name": "ipython",
    "version": 3
   },
   "file_extension": ".py",
   "mimetype": "text/x-python",
   "name": "python",
   "nbconvert_exporter": "python",
   "pygments_lexer": "ipython3",
   "version": "3.5.3"
  }
 },
 "nbformat": 4,
 "nbformat_minor": 2
}
